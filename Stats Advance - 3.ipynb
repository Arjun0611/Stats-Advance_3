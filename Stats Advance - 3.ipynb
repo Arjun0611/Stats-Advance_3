{
 "cells": [
  {
   "cell_type": "code",
   "execution_count": 1,
   "id": "fbb80d47-698b-4812-ae17-46fae031a279",
   "metadata": {},
   "outputs": [],
   "source": [
    "#Q1.\n",
    "\n",
    "# Estimation statistics involves making educated guesses about population parameters using sample data.\n",
    "\n",
    "# Point Estimate: Single numerical value used as the best guess for a parameter. E.g. Using sample mean as an estimate for the population mean.\n",
    "\n",
    "# Interval Estimate: It is also known as confidence interval. It provides a range of values with a confidence level,v indicating the likely range of the parameter. E.g. 95% C.I. for the population mean might be (X - 1, X + 1), indicating that we are 95% confident/sure that the true population mean falls within this range."
   ]
  },
  {
   "cell_type": "code",
   "execution_count": 2,
   "id": "b0dee14c-62ac-4a3e-926f-5c6b37d50e58",
   "metadata": {},
   "outputs": [],
   "source": [
    "#Q2.\n",
    "\n",
    "from scipy import stats"
   ]
  },
  {
   "cell_type": "code",
   "execution_count": 5,
   "id": "2d9f0d73-5311-4838-b8d2-e48b5547634e",
   "metadata": {},
   "outputs": [
    {
     "name": "stdout",
     "output_type": "stream",
     "text": [
      "Estimated Population Mean: 50\n",
      "95% Confidence Interval: (48.04003601545995, 51.95996398454005)\n"
     ]
    }
   ],
   "source": [
    "def estimate_population_mean(sample_mean, sample_std, sample_size):\n",
    "    \n",
    "    # Calculate the standard error of the mean (SEM)\n",
    "    sem = sample_std / (sample_size ** 0.5)\n",
    "    \n",
    "    # Calculate the confidence interval (e.g., 95% confidence interval)\n",
    "    confidence_level = 0.95\n",
    "    z_score = stats.norm.ppf((1 + confidence_level) / 2)\n",
    "    \n",
    "    # Calculate the margin of error\n",
    "    margin_of_error = z_score * sem\n",
    "    \n",
    "    # Calculate the lower and upper bounds of the confidence interval\n",
    "    lower_bound = sample_mean - margin_of_error\n",
    "    upper_bound = sample_mean + margin_of_error\n",
    "    \n",
    "    return lower_bound, upper_bound\n",
    "\n",
    "# Example\n",
    "\n",
    "sample_mean = 50\n",
    "sample_std = 10\n",
    "sample_size = 100\n",
    "lower_bound, upper_bound = estimate_population_mean(sample_mean, sample_std, sample_size)\n",
    "\n",
    "print(f\"Estimated Population Mean: {sample_mean}\")\n",
    "print(f\"95% Confidence Interval: ({lower_bound}, {upper_bound})\")"
   ]
  },
  {
   "cell_type": "code",
   "execution_count": 8,
   "id": "c5807b85-71d8-4e50-86a2-7f5b2de620e7",
   "metadata": {},
   "outputs": [],
   "source": [
    "#Q3.\n",
    "\n",
    "# Hypothesis testing is a method to determine whether a certain assumption about a poulation is likely to be true based on sample data.\n",
    "\n",
    "# Here's how the process of hypothesis testing works.\n",
    "\n",
    "#1. Formulate Hypothesis: Null Hypothesis: Default assumption or no effect, Alternate Hypothesis: Contradicts the null hypothesis, suggesting the presence of an effect.\n",
    "\n",
    "#2. Collect Data: Gather sample data\n",
    "\n",
    "#3. Choose Alpha (Significance Value): Determine threshold for significance (typically 0.05)\n",
    "\n",
    "#4. Select Statistical Test: Based on data type and hypothesis select Z-test, T-test, etc.\n",
    "\n",
    "#5. Calculate Test Statistic: Meassure observed effect in the sample.\n",
    "\n",
    "#6. Determine P-value: Calculate probability of observing a test statistic as extreme as, or more extreme than, the one calculated under the null hypothesis.\n",
    "\n",
    "#7. Compare P-value to Alpha: If p-value <= alpha, reject the null hypothesis\n",
    "\n",
    "#8. Draw conclusion based on step-7\n",
    "\n",
    "# All in all, hypothesis testing is important in following domains.\n",
    "\n",
    "#1. Evidence-Based Decisions: Helps make decisions based on data, not guesses.\n",
    "#2. Scientific Research: Vital for scientific studies and experiments.\n",
    "#3. Quality Control: Ensures products meet standards.\n",
    "#4. Policy and Medical Decisions: Guides policies and medical treatments.\n",
    "#5. Risk Management: Used in finance to manage risks.\n",
    "#6. Fairness: Helps prevent biases and unfair judgements."
   ]
  },
  {
   "cell_type": "code",
   "execution_count": 1,
   "id": "9b174965-40e3-4ae6-aff5-acf0054076a5",
   "metadata": {},
   "outputs": [],
   "source": [
    "#Q4.\n",
    "\n",
    "# Null Hypothesis (H0): The average weight of male college students is equal to the average weight of female college students.\n",
    "\n",
    "# Alternate Hypothesis (H1): The average weight of male college students is greater than the average weight of female college students.\n",
    "\n",
    "# Researchers need to collect data, conduct analysis, and compare the sample means of male and female college students' weights to know whether there is enough evidence to reject the null hypothesis."
   ]
  },
  {
   "cell_type": "code",
   "execution_count": 10,
   "id": "7d30f559-da63-4cc3-9a14-e16e4f3eed3d",
   "metadata": {},
   "outputs": [],
   "source": [
    "#Q5."
   ]
  },
  {
   "cell_type": "code",
   "execution_count": 11,
   "id": "288b5314-7d31-4252-936c-a2557bfc8513",
   "metadata": {},
   "outputs": [],
   "source": [
    "import numpy as np\n",
    "from scipy import stats"
   ]
  },
  {
   "cell_type": "code",
   "execution_count": 12,
   "id": "5202d0dc-bdb0-4388-b739-628768eab229",
   "metadata": {},
   "outputs": [
    {
     "name": "stdout",
     "output_type": "stream",
     "text": [
      "T-statistics: 3.837462006285081\n",
      "P-value: 0.004965038023317104\n",
      "Reject the null hypothesis. There is a significant difference between the means\n"
     ]
    }
   ],
   "source": [
    "# Sample data for two populations\n",
    "\n",
    "sample1 = np.array([68, 72, 65, 73, 71])\n",
    "sample2 = np.array([62, 64, 60, 63, 66])\n",
    "\n",
    "alpha = 0.05\n",
    "\n",
    "# Perform a two-sample t-test\n",
    "t_statistic, p_value = stats.ttest_ind(sample1, sample2)\n",
    "\n",
    "print(f\"T-statistics: {t_statistic}\")\n",
    "print(f\"P-value: {p_value}\")\n",
    "\n",
    "if p_value < alpha:\n",
    "    print(\"Reject the null hypothesis. There is a significant difference between the means\")\n",
    "else:\n",
    "    print(\"Fail to reject the null hypothesis. There is no significant difference between means.\")"
   ]
  },
  {
   "cell_type": "code",
   "execution_count": 14,
   "id": "9150a38a-07aa-4d53-a5c8-176662a71f40",
   "metadata": {},
   "outputs": [],
   "source": [
    "#Q6.\n",
    "\n",
    "# Null Hypothesis: It is a statement of no effect, no difference, or no relationship. It represents the default or prevailing belief. Here, it is typically assumed that the null hypothesis is true until there's sufficient evidence to suggest otherwise.\n",
    "\n",
    "# Alternative Hypothesis: Contradicts the null hypothesis. It suggests the presence of an effect, difference, or relationship one wants to investigate. It's what you hope to find evidence for in your data."
   ]
  },
  {
   "cell_type": "code",
   "execution_count": 15,
   "id": "468201ed-dd61-4f6b-956c-e9b3944617a2",
   "metadata": {},
   "outputs": [],
   "source": [
    "# Example 1 - Medical Treatment:\n",
    "\n",
    "# H0 - The new drug has no effect on patients' blood pressure.\n",
    "# H1 - The new drug reduces patients' blood pressure.\n",
    "\n",
    "# Example 2 - Marketing\n",
    "\n",
    "# H0 - There is no association b/w advertising spend and product sales.\n",
    "# H1 - Increased advertising spend is positively associated with higher product sales."
   ]
  },
  {
   "cell_type": "code",
   "execution_count": 16,
   "id": "ca703bcb-abe0-44b7-b49f-e956a9100d1a",
   "metadata": {},
   "outputs": [],
   "source": [
    "#Q7.\n",
    "\n",
    "# Here's how the process of hypothesis testing works.\n",
    "\n",
    "#1. Formulate Hypothesis: Null Hypothesis: Default assumption or no effect, Alternate Hypothesis: Contradicts the null hypothesis, suggesting the presence of an effect.\n",
    "\n",
    "#2. Collect Data: Gather sample data\n",
    "\n",
    "#3. Choose Alpha (Significance Value): Determine threshold for significance (typically 0.05)\n",
    "\n",
    "#4. Select Statistical Test: Based on data type and hypothesis select Z-test, T-test, etc.\n",
    "\n",
    "#5. Calculate Test Statistic: Meassure observed effect in the sample.\n",
    "\n",
    "#6. Determine P-value: Calculate probability of observing a test statistic as extreme as, or more extreme than, the one calculated under the null hypothesis.\n",
    "\n",
    "#7. Compare P-value to Alpha: If p-value <= alpha, reject the null hypothesis\n",
    "\n",
    "#8. Draw conclusion based on step-7"
   ]
  },
  {
   "cell_type": "code",
   "execution_count": 17,
   "id": "7bfb4ffd-3baa-4540-9e0e-d4f745fe2002",
   "metadata": {},
   "outputs": [],
   "source": [
    "#Q8.\n",
    "\n",
    "# P-value is a probability value that measures the strength of evidence against the null hypothesis in hypothesis testing.\n",
    "\n",
    "# It ranges from 0 to 1.\n",
    "\n",
    "# A small p-value (<0.05) indicates strong evidence against the null hypothesis.\n",
    "# A large p-value suggests weak evidence against the null hypothesis.\n",
    "\n",
    "# If P-value <= alpha, reject the null hypothesis and vice-versa.\n",
    "\n",
    "# Importnace: P-values help make data-driven decisions and determine the validity of research findings.\n"
   ]
  },
  {
   "cell_type": "code",
   "execution_count": 18,
   "id": "b00a77c3-048c-4e69-981a-1f949fbdbb89",
   "metadata": {},
   "outputs": [],
   "source": [
    "#Q9."
   ]
  },
  {
   "cell_type": "code",
   "execution_count": 21,
   "id": "b99dce20-cd24-4375-9c7b-0c467689fb59",
   "metadata": {},
   "outputs": [],
   "source": [
    "import matplotlib.pyplot as plt\n",
    "from scipy.stats import t"
   ]
  },
  {
   "cell_type": "code",
   "execution_count": 27,
   "id": "d972f66f-bb51-4076-869d-19d73a68d918",
   "metadata": {},
   "outputs": [
    {
     "data": {
      "image/png": "[encoded data removed]",
      "text/plain": [
       "<Figure size 800x600 with 1 Axes>"
      ]
     },
     "metadata": {},
     "output_type": "display_data"
    }
   ],
   "source": [
    "dof = 10\n",
    "\n",
    "x = np.linspace(-5,5,1000)\n",
    "\n",
    "pdf = t.pdf(x, dof)\n",
    "\n",
    "plt.figure(figsize=(8, 6))\n",
    "plt.plot(x, pdf, label=f\"t-Distribution (df={dof})\")\n",
    "plt.title(f\"Student's t-Distribution (Degrees of Freedom = {dof})\")\n",
    "plt.xlabel(\"x\")\n",
    "plt.ylabel(\"Probability Density\")\n",
    "plt.grid(True)\n",
    "plt.legend()\n",
    "plt.show()"
   ]
  },
  {
   "cell_type": "code",
   "execution_count": 29,
   "id": "b66759db-0b2a-40ac-825b-04a08d6c4fdb",
   "metadata": {},
   "outputs": [
    {
     "name": "stdout",
     "output_type": "stream",
     "text": [
      "T-statistic: 4.129483209670114\n",
      "P-value: 0.003300804054917894\n",
      "Reject the null hypothesis. There is a significant difference between the means.\n"
     ]
    }
   ],
   "source": [
    "#Q10.\n",
    "\n",
    "# Two random samples of equal size\n",
    "sample1 = np.array([55, 57, 58, 56, 59])\n",
    "sample2 = np.array([52, 53, 54, 55, 53])\n",
    "\n",
    "# Perform a two-sample t-test\n",
    "t_statistic, p_value = stats.ttest_ind(sample1, sample2)\n",
    "\n",
    "# Define the significance level (alpha)\n",
    "alpha = 0.05\n",
    "\n",
    "print(f\"T-statistic: {t_statistic}\")\n",
    "print(f\"P-value: {p_value}\")\n",
    "\n",
    "# Make a decision based on the p-value\n",
    "if p_value < alpha:\n",
    "    print(\"Reject the null hypothesis. There is a significant difference between the means.\")\n",
    "else:\n",
    "    print(\"Fail to reject the null hypothesis. There is no significant difference between the means.\")\n"
   ]
  },
  {
   "cell_type": "code",
   "execution_count": 32,
   "id": "86a147b9-7e1f-407c-8702-8c6caa0afcd1",
   "metadata": {},
   "outputs": [],
   "source": [
    "# Q11.\n",
    "\n",
    "# Student's t-Distribution: Probability distribution similar to the normal distribution but with heavier tails.\n",
    "\n",
    "# When to use the t-Distribution:\n",
    "\n",
    "#1. Small Sample Sizes: Typically less than 30\n",
    "#2. Unknown Population Standard Deviation"
   ]
  },
  {
   "cell_type": "code",
   "execution_count": 33,
   "id": "6ed90b91-6c11-4a30-86b7-b255bad11da4",
   "metadata": {},
   "outputs": [],
   "source": [
    "#Q12.\n",
    "\n",
    "# t-statistic: It measures how many standard errors a sample statistic is away from the population parameter it estimates.\n",
    "\n",
    "# For a one-sample t-test, the formula is:\n",
    "\n",
    "# t = (sample mean) - (population mean under the null hypothesis) / ((sample std) / sqrt(sample size))"
   ]
  },
  {
   "cell_type": "code",
   "execution_count": null,
   "id": "995f0f84-5d6e-412a-ab63-3ea29b93e57d",
   "metadata": {},
   "outputs": [],
   "source": []
  }
 ],
 "metadata": {
  "kernelspec": {
   "display_name": "Python 3 (ipykernel)",
   "language": "python",
   "name": "python3"
  },
  "language_info": {
   "codemirror_mode": {
    "name": "ipython",
    "version": 3
   },
   "file_extension": ".py",
   "mimetype": "text/x-python",
   "name": "python",
   "nbconvert_exporter": "python",
   "pygments_lexer": "ipython3",
   "version": "3.10.8"
  }
 },
 "nbformat": 4,
 "nbformat_minor": 5
}
